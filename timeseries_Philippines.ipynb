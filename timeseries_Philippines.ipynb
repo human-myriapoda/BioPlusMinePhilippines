{
 "cells": [
  {
   "attachments": {},
   "cell_type": "markdown",
   "metadata": {},
   "source": [
    "# Archive Satellite Data Analysis (1984-2022)\n",
    "TODO: add text"
   ]
  },
  {
   "attachments": {},
   "cell_type": "markdown",
   "metadata": {},
   "source": [
    "## 1. Set-up\n",
    "### 1.1 Import modules"
   ]
  },
  {
   "cell_type": "code",
   "execution_count": 116,
   "metadata": {},
   "outputs": [],
   "source": [
    "import numpy as np\n",
    "import matplotlib.pyplot as plt\n",
    "import scipy\n",
    "import ee\n",
    "import geemap"
   ]
  },
  {
   "attachments": {},
   "cell_type": "markdown",
   "metadata": {},
   "source": [
    "### 1.2 Authentification to Google Earth Engine"
   ]
  },
  {
   "cell_type": "code",
   "execution_count": 117,
   "metadata": {},
   "outputs": [
    {
     "data": {
      "text/html": [
       "<p>To authorize access needed by Earth Engine, open the following\n",
       "        URL in a web browser and follow the instructions:</p>\n",
       "        <p><a href=https://code.earthengine.google.com/client-auth?scopes=https%3A//www.googleapis.com/auth/earthengine%20https%3A//www.googleapis.com/auth/devstorage.full_control&request_id=yQoVy-_fLRSMFTE4XbbZwXd6MHQM0ISHF8e9PIMpxqQ&tc=KakaiLIXLDck4sUesrOLaFZ9xEL5VS4lgoq046WYz_g&cc=GAvrPPBdiaTOadSpw1rOOZkL-jX1kAjO8FMBJ614HQ4>https://code.earthengine.google.com/client-auth?scopes=https%3A//www.googleapis.com/auth/earthengine%20https%3A//www.googleapis.com/auth/devstorage.full_control&request_id=yQoVy-_fLRSMFTE4XbbZwXd6MHQM0ISHF8e9PIMpxqQ&tc=KakaiLIXLDck4sUesrOLaFZ9xEL5VS4lgoq046WYz_g&cc=GAvrPPBdiaTOadSpw1rOOZkL-jX1kAjO8FMBJ614HQ4</a></p>\n",
       "        <p>The authorization workflow will generate a code, which you should paste in the box below.</p>\n",
       "        "
      ],
      "text/plain": [
       "<IPython.core.display.HTML object>"
      ]
     },
     "metadata": {},
     "output_type": "display_data"
    },
    {
     "name": "stdout",
     "output_type": "stream",
     "text": [
      "\n",
      "Successfully saved authorization token.\n"
     ]
    }
   ],
   "source": [
    "try:\n",
    "    ee.Initialize()\n",
    "\n",
    "except:\n",
    "    ee.Authenticate()\n",
    "    ee.Initialize()"
   ]
  },
  {
   "attachments": {},
   "cell_type": "markdown",
   "metadata": {},
   "source": [
    "## 2. Region of interest"
   ]
  },
  {
   "cell_type": "code",
   "execution_count": 118,
   "metadata": {},
   "outputs": [],
   "source": [
    "latitude, longitude = 16.482743, 120.677159\n",
    "point = ee.Geometry.Point([longitude, latitude])\n",
    "dates = ['1984-01-01', '2022-01-10']\n",
    "\n",
    "size = 0.022\n",
    "polygon = ee.Geometry.Polygon([[[longitude-2*size, latitude+size],\n",
    "            [longitude-2*size, latitude-size],\n",
    "            [longitude+size, latitude-size],\n",
    "            [longitude+size, latitude+size],\n",
    "            [longitude-2*size, latitude+size]]], None, False)"
   ]
  },
  {
   "cell_type": "code",
   "execution_count": 119,
   "metadata": {},
   "outputs": [],
   "source": [
    "S2 = 'COPERNICUS/S2_SR_HARMONIZED'\n",
    "L9 = 'LANDSAT/LC09/C02/T1_L2'\n",
    "L8 = 'LANDSAT/LC08/C02/T1_L2'\n",
    "\n",
    "sat = S2\n",
    "\n",
    "if sat == L8:\n",
    "    cloud_label = 'CLOUD_COVER'\n",
    "\n",
    "else:\n",
    "    cloud_label = 'CLOUDY_PIXEL_PERCENTAGE'\n",
    "\n",
    "imageCollection = ee.ImageCollection(sat).filterBounds(point).filterDate(dates[0], dates[1])\n",
    "image = imageCollection.sort(cloud_label).first().clip(polygon)"
   ]
  },
  {
   "cell_type": "code",
   "execution_count": 120,
   "metadata": {},
   "outputs": [
    {
     "data": {
      "application/vnd.jupyter.widget-view+json": {
       "model_id": "0c8364207bda4ecd909a8610d2cd1e4c",
       "version_major": 2,
       "version_minor": 0
      },
      "text/plain": [
       "Map(center=[16.482743, 120.677159], controls=(WidgetControl(options=['position', 'transparent_bg'], widget=HBo…"
      ]
     },
     "metadata": {},
     "output_type": "display_data"
    }
   ],
   "source": [
    "Map = geemap.Map(center=[latitude, longitude], zoom=11)\n",
    "Map.addLayer(image, vis_params={'bands': ['B4', 'B3', 'B2'], 'max':5000})\n",
    "Map"
   ]
  },
  {
   "attachments": {},
   "cell_type": "markdown",
   "metadata": {},
   "source": [
    "# DEM from GEE"
   ]
  },
  {
   "cell_type": "code",
   "execution_count": 121,
   "metadata": {},
   "outputs": [
    {
     "name": "stdout",
     "output_type": "stream",
     "text": [
      "{'elevation_max': 1820, 'elevation_min': 971}\n"
     ]
    },
    {
     "data": {
      "application/vnd.jupyter.widget-view+json": {
       "model_id": "a6d9e84403c94aa4b40abc5a95152cf3",
       "version_major": 2,
       "version_minor": 0
      },
      "text/plain": [
       "Map(center=[16.482743, 120.677159], controls=(WidgetControl(options=['position', 'transparent_bg'], widget=HBo…"
      ]
     },
     "metadata": {},
     "output_type": "display_data"
    }
   ],
   "source": [
    "dataset = ee.Image('USGS/SRTMGL1_003')#.clip(polygon)\n",
    "elevation = dataset.select('elevation')\n",
    "slope = ee.Terrain.slope(elevation)\n",
    "\n",
    "# Get min and max values\n",
    "minMaxVal = elevation.reduceRegion(reducer=ee.Reducer.minMax(), geometry=polygon)\n",
    "print(minMaxVal.getInfo())\n",
    "\n",
    "Map_DEM = geemap.Map(center=[latitude, longitude], zoom=11)\n",
    "Map_DEM.addLayer(dataset.clip(polygon), {'min': 921, 'max': 1820, 'palette':['006633', 'EFFFCC', '662A00', 'D8D8D8', 'F5F5F5']}, 'DEM')\n",
    "\n",
    "\n",
    "task_config = {\n",
    "    'scale': 30,  \n",
    "    'region': polygon\n",
    "    }\n",
    "\n",
    "task = ee.batch.Export.image(dataset, 'DEM_Philippines', task_config)\n",
    "\n",
    "task.start()\n",
    "\n",
    "#ee.batch.Export.image.toDrive({\n",
    "  #'image': dataset,\n",
    "  #'description': 'DEM_Sto_Nino',\n",
    "  #'region': polygon\n",
    "#})\n",
    "\n",
    "Map_DEM"
   ]
  }
 ],
 "metadata": {
  "kernelspec": {
   "display_name": "BioPlusMine",
   "language": "python",
   "name": "python3"
  },
  "language_info": {
   "codemirror_mode": {
    "name": "ipython",
    "version": 3
   },
   "file_extension": ".py",
   "mimetype": "text/x-python",
   "name": "python",
   "nbconvert_exporter": "python",
   "pygments_lexer": "ipython3",
   "version": "3.10.9"
  },
  "orig_nbformat": 4,
  "vscode": {
   "interpreter": {
    "hash": "7c823d196ad9e3d1f8b1e3ceaecee5b0b545c99d3099c5d68f8069879c839565"
   }
  }
 },
 "nbformat": 4,
 "nbformat_minor": 2
}
